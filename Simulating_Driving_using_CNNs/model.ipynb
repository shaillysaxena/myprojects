{
 "cells": [
  {
   "cell_type": "code",
   "execution_count": 1,
   "metadata": {
    "collapsed": false
   },
   "outputs": [
    {
     "name": "stderr",
     "output_type": "stream",
     "text": [
      "Using TensorFlow backend.\n"
     ]
    }
   ],
   "source": [
    "import numpy as np\n",
    "import cv2\n",
    "import tensorflow as tf\n",
    "import matplotlib.pyplot as plt\n",
    "%matplotlib inline\n",
    "import csv\n",
    "from sklearn.model_selection import train_test_split\n",
    "from sklearn.utils import shuffle\n",
    "from keras.models import Sequential\n",
    "from keras.layers import Conv2D, Dropout, MaxPooling2D, Dense, Lambda, Flatten\n",
    "from keras.optimizers import Adam"
   ]
  },
  {
   "cell_type": "code",
   "execution_count": 2,
   "metadata": {
    "collapsed": true
   },
   "outputs": [],
   "source": [
    "log_file = 'data/data/driving_log.csv'\n",
    "img_folder = 'data/data/'"
   ]
  },
  {
   "cell_type": "code",
   "execution_count": 3,
   "metadata": {
    "collapsed": true
   },
   "outputs": [],
   "source": [
    "logs = []\n",
    "with open(log_file, 'rt') as f:\n",
    "    log_reader = csv.reader(f)\n",
    "    for line in log_reader:\n",
    "        logs.append(line)\n",
    "labels = logs.pop(0)"
   ]
  },
  {
   "cell_type": "code",
   "execution_count": 4,
   "metadata": {
    "collapsed": true
   },
   "outputs": [],
   "source": [
    "def image_preprocessing(img):\n",
    "    # convert the image to HSV from RGB\n",
    "    # extract the S channel\n",
    "    # crop the image\n",
    "    # resize the image\n",
    "    img_hsv = cv2.cvtColor(img, cv2.COLOR_RGB2HSV)\n",
    "    s_channel = img_hsv[:, :, 1]\n",
    "    cropped = s_channel[53:140,: ]\n",
    "    resized = cv2.resize(cropped, (32, 16))\n",
    "    return resized"
   ]
  },
  {
   "cell_type": "code",
   "execution_count": 5,
   "metadata": {
    "collapsed": true
   },
   "outputs": [],
   "source": [
    "data = dict()\n",
    "data['features']= []\n",
    "data['label'] = []"
   ]
  },
  {
   "cell_type": "code",
   "execution_count": 6,
   "metadata": {
    "collapsed": true
   },
   "outputs": [],
   "source": [
    "# load center camera image\n",
    "for i in range(len(logs)):\n",
    "    # center image\n",
    "    img_path = img_folder + logs[i][0]\n",
    "    img = plt.imread(img_path)\n",
    "    data['features'].append(image_preprocessing(img))\n",
    "    data['label'].append(float(logs[i][3]))\n",
    "    \n",
    "    # left image with correction\n",
    "    img_path = img_folder + (logs[i][1])[1:]\n",
    "    img = plt.imread(img_path)\n",
    "    data['features'].append(image_preprocessing(img))\n",
    "    data['label'].append(float(logs[i][3]) + 0.3)\n",
    "    \n",
    "    # right image with correction\n",
    "    img_path = img_folder + logs[i][2][1:]\n",
    "    img = plt.imread(img_path)\n",
    "    data['features'].append(image_preprocessing(img))\n",
    "    data['label'].append(float(logs[i][3]) - 0.3)"
   ]
  },
  {
   "cell_type": "code",
   "execution_count": 7,
   "metadata": {
    "collapsed": false
   },
   "outputs": [
    {
     "name": "stdout",
     "output_type": "stream",
     "text": [
      "48216\n",
      "48216\n"
     ]
    }
   ],
   "source": [
    "X_train = np.array(data['features']).astype('float32')\n",
    "y_train = np.array(data['label']).astype('float32')\n",
    "\n",
    "# flip the images to create more data\n",
    "X_train = np.append(X_train,X_train[:,:,::-1],axis=0)\n",
    "y_train = np.append(y_train,-y_train,axis=0)\n",
    "\n",
    "print(len(X_train))\n",
    "print(len(y_train))"
   ]
  },
  {
   "cell_type": "code",
   "execution_count": 8,
   "metadata": {
    "collapsed": true
   },
   "outputs": [],
   "source": [
    "X_train, y_train = shuffle(X_train, y_train)\n",
    "X_train, X_val, y_train, y_val = train_test_split(X_train, y_train, random_state=42, test_size=0.1)"
   ]
  },
  {
   "cell_type": "code",
   "execution_count": 9,
   "metadata": {
    "collapsed": true
   },
   "outputs": [],
   "source": [
    "# since our new image is just one channel, it is important to specify that\n",
    "X_train = X_train.reshape(X_train.shape[0], 16, 32, 1)\n",
    "X_val = X_val.reshape(X_val.shape[0], 16, 32, 1)"
   ]
  },
  {
   "cell_type": "code",
   "execution_count": 11,
   "metadata": {
    "collapsed": false
   },
   "outputs": [
    {
     "name": "stdout",
     "output_type": "stream",
     "text": [
      "____________________________________________________________________________________________________\n",
      "Layer (type)                     Output Shape          Param #     Connected to                     \n",
      "====================================================================================================\n",
      "lambda_2 (Lambda)                (None, 16, 32, 1)     0           lambda_input_2[0][0]             \n",
      "____________________________________________________________________________________________________\n",
      "convolution2d_3 (Convolution2D)  (None, 14, 30, 16)    160         lambda_2[0][0]                   \n",
      "____________________________________________________________________________________________________\n",
      "maxpooling2d_3 (MaxPooling2D)    (None, 7, 15, 16)     0           convolution2d_3[0][0]            \n",
      "____________________________________________________________________________________________________\n",
      "dropout_3 (Dropout)              (None, 7, 15, 16)     0           maxpooling2d_3[0][0]             \n",
      "____________________________________________________________________________________________________\n",
      "convolution2d_4 (Convolution2D)  (None, 5, 13, 32)     4640        dropout_3[0][0]                  \n",
      "____________________________________________________________________________________________________\n",
      "maxpooling2d_4 (MaxPooling2D)    (None, 2, 6, 32)      0           convolution2d_4[0][0]            \n",
      "____________________________________________________________________________________________________\n",
      "dropout_4 (Dropout)              (None, 2, 6, 32)      0           maxpooling2d_4[0][0]             \n",
      "____________________________________________________________________________________________________\n",
      "flatten_2 (Flatten)              (None, 384)           0           dropout_4[0][0]                  \n",
      "____________________________________________________________________________________________________\n",
      "dense_2 (Dense)                  (None, 1)             385         flatten_2[0][0]                  \n",
      "====================================================================================================\n",
      "Total params: 5,185\n",
      "Trainable params: 5,185\n",
      "Non-trainable params: 0\n",
      "____________________________________________________________________________________________________\n"
     ]
    }
   ],
   "source": [
    "model = Sequential([\n",
    "        Lambda(lambda x: x/127.5 - 1.,input_shape=(16,32,1)),\n",
    "        Conv2D(16, 3, 3, border_mode='valid', activation='relu'),\n",
    "        MaxPooling2D((2,2),(2,2),'valid'),\n",
    "        Dropout(0.25),\n",
    "        Conv2D(32, 3, 3, border_mode='valid', activation='relu'),\n",
    "        MaxPooling2D((2,2),(2,2),'valid'),\n",
    "        Dropout(0.25),\n",
    "\n",
    "        Flatten(),\n",
    "        Dense(1)\n",
    "    ])\n",
    "\n",
    "model.summary()"
   ]
  },
  {
   "cell_type": "code",
   "execution_count": 12,
   "metadata": {
    "collapsed": false
   },
   "outputs": [
    {
     "name": "stdout",
     "output_type": "stream",
     "text": [
      "Train on 43394 samples, validate on 4822 samples\n",
      "Epoch 1/10\n",
      "43394/43394 [==============================] - 13s - loss: 0.0398 - val_loss: 0.0322\n",
      "Epoch 2/10\n",
      "43394/43394 [==============================] - 14s - loss: 0.0325 - val_loss: 0.0299\n",
      "Epoch 3/10\n",
      "43394/43394 [==============================] - 15s - loss: 0.0315 - val_loss: 0.0295\n",
      "Epoch 4/10\n",
      "43394/43394 [==============================] - 16s - loss: 0.0310 - val_loss: 0.0291\n",
      "Epoch 5/10\n",
      "43394/43394 [==============================] - 16s - loss: 0.0307 - val_loss: 0.0291\n",
      "Epoch 6/10\n",
      "43394/43394 [==============================] - 16s - loss: 0.0302 - val_loss: 0.0312\n",
      "Epoch 7/10\n",
      "43394/43394 [==============================] - 17s - loss: 0.0301 - val_loss: 0.0286\n",
      "Epoch 8/10\n",
      "43394/43394 [==============================] - 17s - loss: 0.0296 - val_loss: 0.0300\n",
      "Epoch 9/10\n",
      "43394/43394 [==============================] - 20s - loss: 0.0296 - val_loss: 0.0289\n",
      "Epoch 10/10\n",
      "43394/43394 [==============================] - 18s - loss: 0.0299 - val_loss: 0.0282\n"
     ]
    }
   ],
   "source": [
    "model.compile(loss='mean_squared_error',optimizer='adam')\n",
    "history = model.fit(X_train, y_train,batch_size=128, nb_epoch=10,verbose=1, validation_data=(X_val, y_val))"
   ]
  },
  {
   "cell_type": "code",
   "execution_count": 13,
   "metadata": {
    "collapsed": false
   },
   "outputs": [
    {
     "name": "stdout",
     "output_type": "stream",
     "text": [
      "Model saved.\n"
     ]
    }
   ],
   "source": [
    "model_json = model.to_json()\n",
    "with open(\"model.json\", \"w\") as json_file:\n",
    "    json_file.write(model_json)\n",
    "\n",
    "model.save_weights(\"model.h5\")\n",
    "print(\"Model saved.\")"
   ]
  },
  {
   "cell_type": "code",
   "execution_count": null,
   "metadata": {
    "collapsed": true
   },
   "outputs": [],
   "source": []
  }
 ],
 "metadata": {
  "anaconda-cloud": {},
  "kernelspec": {
   "display_name": "Python [conda env:CarND-Traffic-Sign-Classifier-Project]",
   "language": "python",
   "name": "conda-env-CarND-Traffic-Sign-Classifier-Project-py"
  },
  "language_info": {
   "codemirror_mode": {
    "name": "ipython",
    "version": 3
   },
   "file_extension": ".py",
   "mimetype": "text/x-python",
   "name": "python",
   "nbconvert_exporter": "python",
   "pygments_lexer": "ipython3",
   "version": "3.5.2"
  }
 },
 "nbformat": 4,
 "nbformat_minor": 1
}
